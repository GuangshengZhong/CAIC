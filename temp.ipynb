{
 "cells": [
  {
   "cell_type": "code",
   "execution_count": 34,
   "metadata": {},
   "outputs": [
    {
     "name": "stdout",
     "output_type": "stream",
     "text": [
      "PipeDff EX_MEM_alu_result(.clk(clk),.bubble(bubble_mem),.stall(stall_mem),.default_val(`ZERO_WORD),.data_in(alu_result_ex),.data_out(alu_result_mem));\n",
      "PipeDff EX_MEM_pc_plus4(.clk(clk),.bubble(bubble_mem),.stall(stall_mem),.default_val(`ZERO_WORD),.data_in(pc_plus4_ex),.data_out(pc_plus4_mem));\n",
      "PipeDff EX_MEM_imm(.clk(clk),.bubble(bubble_mem),.stall(stall_mem),.default_val(`ZERO_WORD),.data_in(imm_ex),.data_out(imm_mem));\n",
      "PipeDff EX_MEM_rs2_data(.clk(clk),.bubble(bubble_mem),.stall(stall_mem),.default_val(`ZERO_WORD),.data_in(rs2_data_ex),.data_out(rs2_data_mem));\n"
     ]
    }
   ],
   "source": [
    "names = {\"pc_plus4\",\"imm\",\"rs2_data\",\"alu_result\"}\n",
    "for name in names:\n",
    "    print(\"PipeDff EX_MEM_\"+name+\"(.clk(clk),.bubble(bubble_mem),.stall(stall_mem),.default_val(`ZERO_WORD),.data_in(\"+name+\"_ex),.data_out(\"+name+\"_mem));\")"
   ]
  },
  {
   "cell_type": "code",
   "execution_count": 35,
   "metadata": {},
   "outputs": [
    {
     "name": "stdout",
     "output_type": "stream",
     "text": [
      "PipeDff ID_EX_mem_write(.clk(clk),.bubble(bubble_ex),.stall(stall_ex),.default_val(1'b0),.data_in(mem_write_id),.data_out(mem_write_ex));\n",
      "PipeDff ID_EX_reg_write(.clk(clk),.bubble(bubble_ex),.stall(stall_ex),.default_val(1'b0),.data_in(reg_write_id),.data_out(reg_write_ex));\n",
      "PipeDff ID_EX_jalr(.clk(clk),.bubble(bubble_ex),.stall(stall_ex),.default_val(1'b0),.data_in(jalr_id),.data_out(jalr_ex));\n",
      "PipeDff ID_EX_alu_src1(.clk(clk),.bubble(bubble_ex),.stall(stall_ex),.default_val(1'b0),.data_in(alu_src1_id),.data_out(alu_src1_ex));\n",
      "PipeDff ID_EX_branch(.clk(clk),.bubble(bubble_ex),.stall(stall_ex),.default_val(1'b0),.data_in(branch_id),.data_out(branch_ex));\n",
      "PipeDff ID_EX_mem_read(.clk(clk),.bubble(bubble_ex),.stall(stall_ex),.default_val(1'b0),.data_in(mem_read_id),.data_out(mem_read_ex));\n",
      "PipeDff ID_EX_alu_src2(.clk(clk),.bubble(bubble_ex),.stall(stall_ex),.default_val(1'b0),.data_in(alu_src2_id),.data_out(alu_src2_ex));\n",
      "PipeDff ID_EX_jal(.clk(clk),.bubble(bubble_ex),.stall(stall_ex),.default_val(1'b0),.data_in(jal_id),.data_out(jal_ex));\n"
     ]
    }
   ],
   "source": [
    "names = {\"reg_write\",\"alu_src1\",\"alu_src2\",\"mem_read\", \"mem_write\", \"branch\", \"jal\", \"jalr\"}\n",
    "for name in names:\n",
    "    print(\"PipeDff ID_EX_\"+name+\"(.clk(clk),.bubble(bubble_ex),.stall(stall_ex),.default_val(1'b0),.data_in(\"+name+\"_id),.data_out(\"+name+\"_ex));\")"
   ]
  },
  {
   "cell_type": "code",
   "execution_count": 37,
   "metadata": {},
   "outputs": [
    {
     "name": "stdout",
     "output_type": "stream",
     "text": [
      "PipeDff EX_MEM_mem_write(.clk(clk),.bubble(bubble_mem),.stall(stall_mem),.default_val(1'b0),.data_in(mem_write_ex),.data_out(mem_write_mem));\n",
      "PipeDff EX_MEM_reg_write(.clk(clk),.bubble(bubble_mem),.stall(stall_mem),.default_val(1'b0),.data_in(reg_write_ex),.data_out(reg_write_mem));\n",
      "PipeDff EX_MEM_mem_read(.clk(clk),.bubble(bubble_mem),.stall(stall_mem),.default_val(1'b0),.data_in(mem_read_ex),.data_out(mem_read_mem));\n"
     ]
    }
   ],
   "source": [
    "names = {\"reg_write\",\"mem_read\", \"mem_write\"}\n",
    "for name in names:\n",
    "    print(\"PipeDff EX_MEM_\"+name+\"(.clk(clk),.bubble(bubble_mem),.stall(stall_mem),.default_val(1'b0),.data_in(\"+name+\"_ex),.data_out(\"+name+\"_mem));\")"
   ]
  },
  {
   "cell_type": "code",
   "execution_count": 39,
   "metadata": {},
   "outputs": [
    {
     "name": "stdout",
     "output_type": "stream",
     "text": [
      "PipeDff EX_MEM_instr_funct3(.clk(clk),.bubble(bubble_mem),.stall(stall_mem),.default_val(1'b0),.data_in(instr_funct3_ex),.data_out(instr_funct3_mem));\n",
      "PipeDff EX_MEM_rd(.clk(clk),.bubble(bubble_mem),.stall(stall_mem),.default_val(1'b0),.data_in(rd_ex),.data_out(rd_mem));\n",
      "PipeDff EX_MEM_reg_src(.clk(clk),.bubble(bubble_mem),.stall(stall_mem),.default_val(1'b0),.data_in(reg_src_ex),.data_out(reg_src_mem));\n"
     ]
    }
   ],
   "source": [
    "names = {\"reg_src\", \"instr_funct3\", \"rd\"}\n",
    "for name in names:\n",
    "    print(\"PipeDff EX_MEM_\"+name+\"(.clk(clk),.bubble(bubble_mem),.stall(stall_mem),.default_val(1'b0),.data_in(\"+name+\"_ex),.data_out(\"+name+\"_mem));\")"
   ]
  },
  {
   "cell_type": "code",
   "execution_count": 40,
   "metadata": {},
   "outputs": [
    {
     "name": "stdout",
     "output_type": "stream",
     "text": [
      "PipeDff MEM_WB_reg_write(.clk(clk),.bubble(bubble_wb),.stall(stall_wb),.default_val(1'b0),.data_in(reg_write_mem),.data_out(reg_write_wb));\n",
      "PipeDff MEM_WB_reg_src(.clk(clk),.bubble(bubble_wb),.stall(stall_wb),.default_val(1'b0),.data_in(reg_src_mem),.data_out(reg_src_wb));\n"
     ]
    }
   ],
   "source": [
    "names = {\"reg_write\",\"reg_src\"}\n",
    "for name in names:\n",
    "    print(\"PipeDff MEM_WB_\"+name+\"(.clk(clk),.bubble(bubble_wb),.stall(stall_wb),.default_val(1'b0),.data_in(\"+name+\"_mem),.data_out(\"+name+\"_wb));\")"
   ]
  },
  {
   "cell_type": "code",
   "execution_count": 41,
   "metadata": {},
   "outputs": [
    {
     "name": "stdout",
     "output_type": "stream",
     "text": [
      "PipeDff MEM_WB_mem2reg_data(.clk(clk),.bubble(bubble_wb),.stall(stall_wb),.default_val(`ZERO_WORD),.data_in(mem2reg_data_mem),.data_out(mem2reg_data_wb));\n",
      "PipeDff MEM_WB_alu_result(.clk(clk),.bubble(bubble_wb),.stall(stall_wb),.default_val(`ZERO_WORD),.data_in(alu_result_mem),.data_out(alu_result_wb));\n",
      "PipeDff MEM_WB_imm(.clk(clk),.bubble(bubble_wb),.stall(stall_wb),.default_val(`ZERO_WORD),.data_in(imm_mem),.data_out(imm_wb));\n"
     ]
    }
   ],
   "source": [
    "names = {\"imm\",\"alu_result\", \"mem2reg_data\"}\n",
    "for name in names:\n",
    "    print(\"PipeDff MEM_WB_\"+name+\"(.clk(clk),.bubble(bubble_wb),.stall(stall_wb),.default_val(`ZERO_WORD),.data_in(\"+name+\"_mem),.data_out(\"+name+\"_wb));\")"
   ]
  },
  {
   "cell_type": "code",
   "execution_count": 22,
   "metadata": {},
   "outputs": [
    {
     "name": "stdout",
     "output_type": "stream",
     "text": [
      "lambda: 1.3999999999999997 omega: 1345.7142857142858\n"
     ]
    }
   ],
   "source": [
    "import math\n",
    "a = 1\n",
    "b = 0\n",
    "omega = 3.14 * 3 * math.sqrt((a/0.007)**2+(b/0.004)**2)\n",
    "lamb = 2 * 0.7 * 0.4 / math.sqrt(a**2 * 0.4**2 + b**2 * 0.7**2) \n",
    "print(\"lambda: \" +str(lamb)+ \" omega: \"+ str(omega))"
   ]
  }
 ],
 "metadata": {
  "kernelspec": {
   "display_name": "Python 3",
   "language": "python",
   "name": "python3"
  },
  "language_info": {
   "codemirror_mode": {
    "name": "ipython",
    "version": 3
   },
   "file_extension": ".py",
   "mimetype": "text/x-python",
   "name": "python",
   "nbconvert_exporter": "python",
   "pygments_lexer": "ipython3",
   "version": "3.10.8"
  },
  "orig_nbformat": 4,
  "vscode": {
   "interpreter": {
    "hash": "88ed580af76e9ce5891a3b1b315924d6dd795ebfe62e1ac07cb85a6d79ca6f35"
   }
  }
 },
 "nbformat": 4,
 "nbformat_minor": 2
}
